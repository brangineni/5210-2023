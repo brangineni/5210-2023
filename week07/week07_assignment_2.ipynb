{
  "cells": [
    {
      "cell_type": "markdown",
      "metadata": {
        "id": "view-in-github",
        "colab_type": "text"
      },
      "source": [
        "<a href=\"https://colab.research.google.com/github/brangineni/5210-2023/blob/main/week07/week07_assignment_2.ipynb\" target=\"_parent\"><img src=\"https://colab.research.google.com/assets/colab-badge.svg\" alt=\"Open In Colab\"/></a>"
      ]
    },
    {
      "cell_type": "markdown",
      "metadata": {
        "id": "AuboDJ5Ho-dv"
      },
      "source": [
        "# Week 7 Assignment\n",
        "\n",
        "We've been working with different types of data structures in Python (dictionary, list, etc), how those are represented in JSON documents, and how to write code to access specific data elements. In this week's assignment, you will need to create your own JSON document to store information about yourself and the grades you've received from week 1 to week 4 and the week 6 quiz.  That is, everything you should have received a grade for.  Then you'll need to show me you know how to navigate the JSON in that file.\n",
        "\n",
        "Different from what we've done in the past, you do not have to write any functions or include any docstrings.  Just create some JSON and write some code.\n",
        "\n",
        "---"
      ]
    },
    {
      "cell_type": "markdown",
      "metadata": {
        "id": "hCsatM79o-dx"
      },
      "source": [
        "## 7.1 Create a JSON string\n",
        "\n",
        "Create a JSON string that contains your name, email, year you were born, all of the grades you've received back so far, and a comment about what you thought was most challenging on each of those assignments.  This can be any structure you choose, but make sure it uses a dictionary and a list, and has at least two levels of hierarchy.  That is, it can't just be one big long list."
      ]
    },
    {
      "cell_type": "markdown",
      "metadata": {
        "id": "9OMDyIxzo-dy"
      },
      "source": [
        "First, explain how your data structure is going to look..."
      ]
    },
    {
      "cell_type": "markdown",
      "metadata": {
        "id": "5gbsymbro-dy"
      },
      "source": [
        "\n",
        "***Top-level dictionary:*** Contains student information (name, email, year of birth).\n",
        "\n",
        "***Nested \"grades\"*** dictionary: Stores weekly grades and comments.\n",
        "\n",
        "***Weekly data:*** Organized as key-value pairs for each week.\n",
        "\n",
        "***Grade and comment:*** Each week includes a grade and a comment for student feedback.\n",
        "\n",
        "***Hierarchical structure:*** Enables organized data storage and retrieval."
      ]
    },
    {
      "cell_type": "markdown",
      "metadata": {
        "id": "1a_xck49o-dy"
      },
      "source": [
        "Then put the actual JSON you've created inside the multiline string below..."
      ]
    },
    {
      "cell_type": "code",
      "execution_count": 3,
      "metadata": {
        "id": "S3sSOULAo-dy"
      },
      "outputs": [],
      "source": [
        "hds5210 = \"\"\"\n",
        "{\n",
        "    \"name\": \"Bargav Rangineni\",\n",
        "    \"email\": \"bargav.rangineni@slu.edu\",\n",
        "    \"year_of_birth\": 1994,\n",
        "    \"grades\": {\n",
        "        \"Week 1\": {\n",
        "            \"grade\": 5.0,\n",
        "            \"comment\": \"Week 1 took time as it was the first one, and some confusion while creating the repository.\"\n",
        "        },\n",
        "        \"Week 2\": {\n",
        "            \"grade\": 10,\n",
        "            \"comment\": \"Week 2 felt challenging, first time writing functions and code.\"\n",
        "        },\n",
        "        \"Week 3\": {\n",
        "            \"grade\": 9.5,\n",
        "            \"comment\": \"Week 3 gained more confidence after week 2, extra effort with descriptive variables.\"\n",
        "        },\n",
        "        \"Week 4\": {\n",
        "            \"grade\": 9.0,\n",
        "            \"comment\": \"Week 4 went well overall, found the first question challenging.\"\n",
        "        },\n",
        "        \"Week 6 (Quiz)\": {\n",
        "            \"grade\": 5.0,\n",
        "            \"comment\": \"Unable to manage time while writing docstrings, hence used ChatGPT.\"\n",
        "        }\n",
        "    }\n",
        "}\n",
        "\"\"\""
      ]
    },
    {
      "cell_type": "markdown",
      "metadata": {
        "id": "fj0RldgTo-dz"
      },
      "source": [
        "## 7.2 Do something with your JSON\n",
        "\n",
        "Now use Python code to do something with the Json above.  Turn it into English text, but make sure that you use at least one loop to access some dict or list content of your JSON.  Below, I've provided some basic code to read in the string above as JSON and return a Python object.  Your job is to work with that data structure and print out the important information like your name, email, and how you did on each assignment."
      ]
    },
    {
      "cell_type": "code",
      "execution_count": 4,
      "metadata": {
        "id": "_U-yoQFTo-dz",
        "outputId": "564f4f91-cff7-4418-de4d-9fb6e7020769",
        "colab": {
          "base_uri": "https://localhost:8080/"
        }
      },
      "outputs": [
        {
          "output_type": "stream",
          "name": "stdout",
          "text": [
            "Hi,my name is Bargav Rangineni, my email is bargav.rangineni@slu.edu,my year of birth is 1994. The below information provides grades and comments on each assignment:\n",
            "For Week 1, I was given a grade of 5.0. Week 1 took time as it was the first one, and some confusion while creating the repository.\n",
            "For Week 2, I was given a grade of 10. Week 2 felt challenging, first time writing functions and code.\n",
            "For Week 3, I was given a grade of 9.5. Week 3 gained more confidence after week 2, extra effort with descriptive variables.\n",
            "For Week 4, I was given a grade of 9.0. Week 4 went well overall, found the first question challenging.\n",
            "For Week 6 (Quiz), I was given a grade of 5.0. Unable to manage time while writing docstrings, hence used ChatGPT.\n"
          ]
        }
      ],
      "source": [
        "hds5210 = \"\"\"\n",
        "{\n",
        "    \"name\": \"Bargav Rangineni\",\n",
        "    \"email\": \"bargav.rangineni@slu.edu\",\n",
        "    \"year_of_birth\": 1994,\n",
        "    \"grades\": {\n",
        "        \"Week 1\": {\n",
        "            \"grade\": 5.0,\n",
        "            \"comment\": \"Week 1 took time as it was the first one, and some confusion while creating the repository.\"\n",
        "        },\n",
        "        \"Week 2\": {\n",
        "            \"grade\": 10,\n",
        "            \"comment\": \"Week 2 felt challenging, first time writing functions and code.\"\n",
        "        },\n",
        "        \"Week 3\": {\n",
        "            \"grade\": 9.5,\n",
        "            \"comment\": \"Week 3 gained more confidence after week 2, extra effort with descriptive variables.\"\n",
        "        },\n",
        "        \"Week 4\": {\n",
        "            \"grade\": 9.0,\n",
        "            \"comment\": \"Week 4 went well overall, found the first question challenging.\"\n",
        "        },\n",
        "        \"Week 6 (Quiz)\": {\n",
        "            \"grade\": 5.0,\n",
        "            \"comment\": \"Unable to manage time while writing docstrings, hence used ChatGPT.\"\n",
        "        }\n",
        "    }\n",
        "}\n",
        "\"\"\"\n",
        "import json\n",
        "\n",
        "info = json.loads(hds5210)\n",
        "# parse the JSON data into a Python dictionary\n",
        "data = json.loads(hds5210)\n",
        "\n",
        "# print important information as English text using a loop\n",
        "print(f\"Hi,my name is {data['name']}, my email is {data['email']},my year of birth is {data['year_of_birth']}. The below information provides grades and comments on each assignment:\")\n",
        "\n",
        "# iterate through each assignment using a for loop\n",
        "for week, details in data['grades'].items():\n",
        "    print(f\"For {week}, I was given a grade of {details['grade']}. {details['comment']}\")"
      ]
    },
    {
      "cell_type": "markdown",
      "metadata": {
        "id": "i-DJP3Ovo-dz"
      },
      "source": [
        "## 7.3 Reflect\n",
        "\n",
        "Write a paragraph on any reflections you have. Was this hard? Easy?  What parts were most challenging or easiest? What did you like or dislike about the assignment?  Share whatever important thoughts you have abou this assignment."
      ]
    },
    {
      "cell_type": "markdown",
      "metadata": {
        "id": "GwKOsm-Jo-d1"
      },
      "source": [
        "The Python coding assignments in this course were entertaining and educational. By presenting real problems and encouraging original thinking, they provide useful problem-solving experiences. Assignments receive clear instructions and extensive feedback, which greatly influenced learning.  More emphasis on the value of codifying effective solutions and best practices would be beneficial.  In the end, I found that this assignments helped improve my Python skills."
      ]
    },
    {
      "cell_type": "code",
      "execution_count": null,
      "metadata": {
        "id": "wAoNu5x4o-d1",
        "outputId": "683baa32-edf9-4f62-a118-ef39361de8a0"
      },
      "outputs": [
        {
          "name": "stdout",
          "output_type": "stream",
          "text": [
            "Hi, my name is Paul. I've got 3 kids. Their names are Ellie, Ada, Teddy.\n",
            "My friend, Anny has 1 kids. That's fewer than me. Their names are 1\n"
          ]
        }
      ],
      "source": [
        "hds5210 = \"\"\"\n",
        "{\n",
        "    \"me\": {\n",
        "        \"name\": \"Paul\",\n",
        "        \"kids\": [\"Ellie\", \"Ada\", \"Teddy\"]\n",
        "    },\n",
        "    \"friend\": {\n",
        "        \"name\": \"Anny\",\n",
        "        \"kids\": [\"Abby\"]\n",
        "    }\n",
        "}\n",
        "\"\"\"\n",
        "\n",
        "import json\n",
        "\n",
        "info = json.loads(hds5210)\n",
        "\n",
        "me = info[\"me\"][\"name\"]\n",
        "my_kids_count = len(info[\"me\"][\"kids\"])\n",
        "kids_list = \", \".join(info[\"me\"][\"kids\"])\n",
        "friend = info[\"friend\"][\"name\"]\n",
        "friends_kid_count = len(info[\"friend\"][\"kids\"])\n",
        "friend_kids = \", \".join(info[\"friend\"][\"kids\"])\n",
        "compare = \"more\" if friends_kid_count > my_kids_count else \"fewer\"\n",
        "\n",
        "print(f\"Hi, my name is {me}. I've got {my_kids_count} kids. Their names are {kids_list}.\")\n",
        "print(f\"My friend, {friend} has {friends_kid_count} kids. That's {compare} than me. Their names are {friends_kid_count}\")"
      ]
    }
  ],
  "metadata": {
    "kernelspec": {
      "display_name": "Python 3",
      "language": "python",
      "name": "python3"
    },
    "language_info": {
      "codemirror_mode": {
        "name": "ipython",
        "version": 3
      },
      "file_extension": ".py",
      "mimetype": "text/x-python",
      "name": "python",
      "nbconvert_exporter": "python",
      "pygments_lexer": "ipython3",
      "version": "3.9.16"
    },
    "colab": {
      "provenance": [],
      "include_colab_link": true
    }
  },
  "nbformat": 4,
  "nbformat_minor": 0
}
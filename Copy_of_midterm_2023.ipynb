{
  "cells": [
    {
      "cell_type": "markdown",
      "metadata": {
        "id": "view-in-github",
        "colab_type": "text"
      },
      "source": [
        "<a href=\"https://colab.research.google.com/github/brangineni/5210-2023/blob/main/Copy_of_midterm_2023.ipynb\" target=\"_parent\"><img src=\"https://colab.research.google.com/assets/colab-badge.svg\" alt=\"Open In Colab\"/></a>"
      ]
    },
    {
      "cell_type": "markdown",
      "metadata": {
        "id": "mg10lCjqEat3"
      },
      "source": [
        "# HDS5210-2022 Midterm\n",
        "\n",
        "In the midterm, you're going to use all the programming and data management skills you've developed so far to build a risk calculator that pretends to be integrated with a clinical registry.  You'll compute the PRIEST COVID-19 Clinical Severity Score for a series of patients and, based on their risk of an adverse outcome, query a REST web service to find a hospital to transfer them to. The end result of your work will be a list of instructions on where each patient should be discharged given their risk and various characteristics of the patient.\n",
        "\n",
        "Each step in the midterm will build up to form your complete solution.\n",
        "\n",
        "**Make sure you write good docstrings and doctests along the way!!**\n",
        "\n",
        "**The midterm is due at 11:59 PM CST on Monday, October 23rd.**\n",
        "\n",
        "---"
      ]
    },
    {
      "cell_type": "markdown",
      "metadata": {
        "id": "bBrlRnn2Eat5"
      },
      "source": [
        "## Step 1: Calculate PRIEST Clinical Severity Score\n",
        "\n",
        "This scoring algorithm can be found [here on the MDCalc website](https://www.mdcalc.com/priest-covid-19-clinical-severity-score#evidence).  \n",
        "\n",
        "1. You will need to write a function called **priest()** with the following input parameters.  \n",
        " * Sex (Gender assigned at birth)\n",
        " * Age in years\n",
        " * Respiratory rate in breaths per minute\n",
        " * Oxygen saturation as a percent between 0 and 1\n",
        " * Heart rate in beats per minute\n",
        " * Systolic BP in mmHg\n",
        " * Temperature in degrees C\n",
        " * Alertness as a string description\n",
        " * Inspired Oxygen as as string description\n",
        " * Performance Status as a string description\n",
        "2. The function will need to follow the algorithm provided on the MDCalc website to compute a risk percentage that should be returned as a numeric value between 0 and 1.\n",
        "3. Be sure to use docstring documentation and at least three built-in docstring test cases.\n",
        "4. Assume that the input values that are strings could be any combination of upper or lower case. For example: 'male', 'Male', 'MALE', 'MalE' should all be interpretted by your code as male.\n",
        "5. If any of the inputs are invalid (for example a sex value that is not recognizable as male or female) your code should return None.\n",
        "\n",
        "NOTES:\n",
        "1. In the final step there is a table that translates from **PRIEST Score** to **30-day probability of an outcome** but the last two probabilities are shown as ranges (59-88% and >99%).  Our code needs to output a single number, however. For our code, use the following rule:\n",
        " * If PRIEST score is between 17 and 25, the probability you return should be 0.59\n",
        " * If PRIEST score is greater than or equal to 26, the probability you return should be 0.99\n"
      ]
    },
    {
      "cell_type": "code",
      "execution_count": 40,
      "metadata": {
        "id": "x2UTQQlxEat6"
      },
      "outputs": [],
      "source": [
        "def priest(sex, age, respiratory_rate, oxygen_saturation, heart_rate, systolic_BP, temperature, alertness, inspired_oxygen, performance_status):\n",
        "    \"\"\"\n",
        "    (String, float, float, float, float, float, float, String, String, String) -> float)\n",
        "\n",
        "    'PRIEST COVID-19 Clinical Severity Score' risk percentage is determined using this funtion (priest()).\n",
        "\n",
        "    The arguments for this Priest method include sex, age, respiratory_rate, oxygen_saturation, heart_rate, systolic_BP,\n",
        "    temperature, alertness, inspired_oxygen, and performance_status; all but sex, alerness, inspired_oxygen,\n",
        "    and performance_status are String. Gives a float as the output\n",
        "\n",
        "    >>> priest(\"FEMALE\",51,23,0.96,105,95,34.9,\"ALERT\",\"AIR\",\"unrestricted normal activity\")\n",
        "    0.29\n",
        "\n",
        "    >>> priest(\"MALE\",22,22,0.96,115,101,35.4,\"ALERT\",\"AIR\",\"bed/chair bound, no self-care\")\n",
        "    0.34\n",
        "\n",
        "    >>> priest(\"FEMALE\",18,23,0.98,105,115,38.1,\"ALERT\",\"AIR\",\"limited self-care\")\n",
        "    0.18\n",
        "\n",
        "    \"\"\"\n",
        "    priest_score=0\n",
        "    if sex.upper() == \"MALE\":\n",
        "        priest_score = priest_score + 1\n",
        "    elif sex.upper() == \"FEMALE\":\n",
        "        priest_score = priest_score + 0\n",
        "\n",
        "\n",
        "    if age > 80:\n",
        "        priest_score = priest_score + 4\n",
        "    if age >= 16 and age<=49:\n",
        "        priest_score = priest_score + 0\n",
        "    elif age >= 50 and age<=65:\n",
        "        priest_score = priest_score + 2\n",
        "    elif age >= 66 and age<=80:\n",
        "        priest_score = priest_score + 3\n",
        "\n",
        "\n",
        "\n",
        "    if oxygen_saturation < 0.92:\n",
        "        priest_score = priest_score +  3\n",
        "    elif oxygen_saturation >= 0.94 and oxygen_saturation <= 0.95:\n",
        "        priest_score = priest_score +  1\n",
        "    elif oxygen_saturation >= 0.92 and oxygen_saturation <= 0.93:\n",
        "        priest_score = priest_score +  2\n",
        "\n",
        "    if respiratory_rate < 9:\n",
        "        priest_score = priest_score +  3\n",
        "    elif respiratory_rate >= 21 and respiratory_rate <= 24:\n",
        "        priest_score = priest_score +  2\n",
        "    elif respiratory_rate >= 9 and respiratory_rate <= 11:\n",
        "        priest_score = priest_score +  1\n",
        "    elif respiratory_rate > 24:\n",
        "        priest_score = priest_score +  3\n",
        "\n",
        "    if systolic_BP > 219:\n",
        "        priest_score = priest_score +  3\n",
        "    elif systolic_BP >= 101 and systolic_BP <= 110:\n",
        "        priest_score = priest_score +  1\n",
        "    elif systolic_BP >= 91 and systolic_BP <= 100:\n",
        "        priest_score = priest_score +  2\n",
        "    elif systolic_BP < 91:\n",
        "        priest_score = priest_score +  3\n",
        "\n",
        "    if heart_rate > 130:\n",
        "        priest_score = priest_score +  3\n",
        "    elif heart_rate >= 111 and heart_rate <= 130:\n",
        "        priest_score = priest_score +  2\n",
        "    elif heart_rate >= 91 and heart_rate <= 110:\n",
        "        priest_score = priest_score +  1\n",
        "    elif heart_rate < 41:\n",
        "        priest_score = priest_score +  3\n",
        "    elif heart_rate >= 41 and heart_rate <= 50:\n",
        "        priest_score = priest_score +  1\n",
        "\n",
        "\n",
        "    if temperature > 39.0:\n",
        "        priest_score = priest_score +  2\n",
        "    elif temperature >= 38.1 and temperature <= 39.0:\n",
        "        priest_score = priest_score +  1\n",
        "    if temperature < 35.1:\n",
        "        priest_score = priest_score +  3\n",
        "    elif temperature >= 35.1 and temperature <= 36.0:\n",
        "        priest_score = priest_score +  1\n",
        "\n",
        "    if inspired_oxygen.upper() == \"SUPPLEMENTAL OXYGEN\":\n",
        "        priest_score = priest_score +  2\n",
        "\n",
        "    if performance_status.upper() == \"LIMITED SELF-CARE\":\n",
        "        priest_score = priest_score +  3\n",
        "    elif performance_status.upper() == \"LIMITED ACTIVITY, CAN SELF-CARE\":\n",
        "        priest_score = priest_score +  2\n",
        "    if performance_status.upper() == \"LIMITED STRENUOUS ACTIVITY, CAN DO LIGHT ACTIVITY\":\n",
        "        priest_score = priest_score +  1\n",
        "    elif performance_status.upper() == \"BED/CHAIR BOUND, NO SELF-CARE\":\n",
        "        priest_score = priest_score +  4\n",
        "\n",
        "    if alertness.upper() == \"CONFUSED OR NOT ALERT\":\n",
        "        priest_score = priest_score +  3\n",
        "\n",
        "\n",
        "    risk_percentage = [0.01, 0.01, 0.02, 0.02, 0.03, 0.09, 0.15, 0.18, 0.22, 0.26, 0.29, 0.34, 0.38, 0.46, 0.47, 0.49, 0.55, 0.59, 0.59, 0.59, 0.59, 0.59, 0.59, 0.59, 0.59, 0.59,0.99]\n",
        "    if priest_score >= 26:\n",
        "        return 0.99\n",
        "    return risk_percentage[priest_score]"
      ]
    },
    {
      "cell_type": "code",
      "execution_count": 41,
      "metadata": {
        "id": "Lm2LKf0KEat6",
        "colab": {
          "base_uri": "https://localhost:8080/"
        },
        "outputId": "7d95cc3a-f282-4477-db99-c4264fad1317"
      },
      "outputs": [
        {
          "output_type": "stream",
          "name": "stdout",
          "text": [
            "Finding tests in NoName\n",
            "Trying:\n",
            "    priest(\"FEMALE\",51,23,0.96,105,95,34.9,\"ALERT\",\"AIR\",\"unrestricted normal activity\")\n",
            "Expecting:\n",
            "    0.29\n",
            "ok\n",
            "Trying:\n",
            "    priest(\"MALE\",22,22,0.96,115,101,35.4,\"ALERT\",\"AIR\",\"bed/chair bound, no self-care\")\n",
            "Expecting:\n",
            "    0.34\n",
            "ok\n",
            "Trying:\n",
            "    priest(\"FEMALE\",18,23,0.98,105,115,38.1,\"ALERT\",\"AIR\",\"limited self-care\")\n",
            "Expecting:\n",
            "    0.18\n",
            "ok\n"
          ]
        }
      ],
      "source": [
        "import doctest\n",
        "doctest.run_docstring_examples(priest, globals(),verbose=True)"
      ]
    },
    {
      "cell_type": "markdown",
      "metadata": {
        "id": "e4QjJ06pEat7"
      },
      "source": [
        "## Part 2: Find a hospital\n",
        "\n",
        "The next thing we have to do is figure out where to send this particular patient.  The guidelines on where to send a patient are based on their age (pediatric, adult, geriatric), sex, and risk percentage.  Luckily, you don't have to implement these rules. I already have. All you have to do is use a REST web service that I've created for you.\n",
        "\n",
        "You'll want to use Python to make a call to my REST web service similar to the example URL below. The first part of the URL will be the same for everyone and every request that you make. What you will need to modify for each of your requests is the information after the question mark.\n",
        "\n",
        "```\n",
        "https://oumdj6oci2.execute-api.us-east-1.amazonaws.com/prd/?age=40&sex=male&risk_pct=0.1\n",
        "```\n",
        "\n",
        "The example above asks my web service where a 40-year old male with a risk of 10% should go.  What the web service will return back is a JSON string containing the information you need.  That JSON will look like this:\n",
        "\n",
        "```json\n",
        "{\n",
        "  \"age\": \"40\",\n",
        "  \"sex\": \"male\",\n",
        "  \"risk\": \"0.1\",\n",
        "  \"hospital\": \"Southwest Hospital and Medical Center\"\n",
        "}\n",
        "```\n",
        "\n",
        "My function is not smart enough to understand `'MALE'` is the same as `'male'`.  You have to send it exactly `'male'` or `'female'`\n",
        "\n",
        "1. Your job is to write a function called **find_hospital()** that takes age, sex, and risk as parameters.\n",
        "2. Your function should call this REST web service using the `requests` module\n",
        "3. Then your function will need to interpret the JSON it gets and return just the name of the hospital\n",
        "4. If anything fails, return None\n",
        "5. Include a good docstring with at least three test cases.\n"
      ]
    },
    {
      "cell_type": "code",
      "execution_count": 42,
      "metadata": {
        "id": "_60rdingEat7"
      },
      "outputs": [],
      "source": [
        "import requests\n",
        "import csv\n",
        "import json\n",
        "\n",
        "\n",
        "def find_hospital(age, sex, risk_percentage):\n",
        "    \"\"\"\n",
        "    (integer, String, float) -> String\n",
        "\n",
        "    Based on age, sex, and risk percentage, this find_hospital() method will locate the best hospital.\n",
        "\n",
        "    Age is supplied as an integer, sex is passed as a string, and riskPerc is passed as a float in the\n",
        "    find_hospital() method. returns the name of the output hospital as a String.\n",
        "\n",
        "\n",
        "    >>> find_hospital(66, \"FEMALE\", 0.55)\n",
        "    'Wesley Woods Geriatric Hospital'\n",
        "\n",
        "    >>> find_hospital(18, \"FEMALE\", 0.18)\n",
        "    'Select Specialty Hospital - Northeast Atlanta'\n",
        "\n",
        "    >>> find_hospital(18, \"MALE\", 0.18)\n",
        "    'Southwest Hospital and Medical Center'\n",
        "    \"\"\"\n",
        "    response = requests.get(\"https://oumdj6oci2.execute-api.us-east-1.amazonaws.com/prd/\",params={\"age\":age,\"sex\":sex.lower(),\"risk_pct\":risk_percentage})\n",
        "    name = (response.json())['hospital']\n",
        "    return name\n"
      ]
    },
    {
      "cell_type": "code",
      "execution_count": 43,
      "metadata": {
        "id": "wt6x7bHHEat7",
        "colab": {
          "base_uri": "https://localhost:8080/"
        },
        "outputId": "af371bd2-db02-4159-9fd4-58ac07dc16e3"
      },
      "outputs": [
        {
          "output_type": "stream",
          "name": "stdout",
          "text": [
            "Finding tests in NoName\n",
            "Trying:\n",
            "    find_hospital(66, \"FEMALE\", 0.55)\n",
            "Expecting:\n",
            "    'Wesley Woods Geriatric Hospital'\n",
            "ok\n",
            "Trying:\n",
            "    find_hospital(18, \"FEMALE\", 0.18)\n",
            "Expecting:\n",
            "    'Select Specialty Hospital - Northeast Atlanta'\n",
            "ok\n",
            "Trying:\n",
            "    find_hospital(18, \"MALE\", 0.18)\n",
            "Expecting:\n",
            "    'Southwest Hospital and Medical Center'\n",
            "ok\n"
          ]
        }
      ],
      "source": [
        "import doctest\n",
        "doctest.run_docstring_examples(find_hospital, globals(),verbose=True)"
      ]
    },
    {
      "cell_type": "markdown",
      "metadata": {
        "id": "dGX6eB5fEat8"
      },
      "source": [
        "## Part 3: Get the address for that hospital from a JSON file\n",
        "\n",
        "Great! Now we have code to tell us which hospital to send someone to... but we don't know where that hospital is. The next function we need to create is one that looks up the address of that hospital.  All of these hospitals are in Atlanta, Georgia.  We're going to use the list from this webpage to lookup the address for that hospital, based on its name.  https://www.officialusa.com/stateguides/health/hospitals/georgia.html\n",
        "\n",
        "Because we skipped the section about Beautiful Soup and working with HTML, I've converted this information into a JSON document for you.  It's available for you here.  Your code should retrieve this file using the `requests` module.\n",
        "\n",
        "`https://drive.google.com/uc?export=download&id=1fIFD-NkcdiMu941N4GjyMDWxiKsFJBw-`\n",
        "\n",
        "1. You need to create a function called **get_address()** that takes hospital name as a parameter and searches the data from this JSON file for the hospital you want to find.\n",
        "2. Your code will have to load the JSON and return the correct hospital based on name.\n",
        "3. If the hospital name isn't found, the function should return None.\n",
        "4. Be sure to use good docstring documentation and includes at least 3 test cases."
      ]
    },
    {
      "cell_type": "code",
      "execution_count": 44,
      "metadata": {
        "id": "bQMwkb1WEat8"
      },
      "outputs": [],
      "source": [
        "def get_address(hospital):\n",
        "\n",
        "    \"\"\"\n",
        "    (String) -> String\n",
        "\n",
        "    This get_address method will locate the hospital's address from the rest api.\n",
        "\n",
        "    The hospital name is the input argument for the get_address method, which returns the address as a string.\n",
        "\n",
        "\n",
        "    >>> get_address(\"Wesley Woods Geriatric Hospital\")\n",
        "    '1821 CLIFTON ROAD, NE'\n",
        "\n",
        "    >>> get_address(\"Southwest Hospital and Medical Center\")\n",
        "    '501 FAIRBURN ROAD SW'\n",
        "\n",
        "    >>> get_address(\"Select Specialty Hospital - Northeast Atlanta\")\n",
        "    '1821 CLIFTON ROAD NE'\n",
        "\n",
        "    \"\"\"\n",
        "    response = requests.get(\"https://hds5210-data.s3.amazonaws.com/ga_hospitals.json\")\n",
        "    jso = response.json()\n",
        "    if hospital.upper() in jso:\n",
        "        return jso[hospital.upper()][\"ADDRESS\"]\n",
        "    else:\n",
        "        return \" Not able to find \""
      ]
    },
    {
      "cell_type": "code",
      "source": [
        "get_address(\"Wesley Woods Geriatric Hospital\")"
      ],
      "metadata": {
        "colab": {
          "base_uri": "https://localhost:8080/",
          "height": 35
        },
        "id": "NJwAw6stu8Zv",
        "outputId": "6a9b6617-c7b9-4be6-acae-c6296adde1fd"
      },
      "execution_count": 45,
      "outputs": [
        {
          "output_type": "execute_result",
          "data": {
            "text/plain": [
              "'1821 CLIFTON ROAD, NE'"
            ],
            "application/vnd.google.colaboratory.intrinsic+json": {
              "type": "string"
            }
          },
          "metadata": {},
          "execution_count": 45
        }
      ]
    },
    {
      "cell_type": "code",
      "source": [
        "get_address(\"Southwest Hospital and Medical Center\")"
      ],
      "metadata": {
        "colab": {
          "base_uri": "https://localhost:8080/",
          "height": 35
        },
        "id": "PgBJ0y3bvEx0",
        "outputId": "f4ed6e4b-57a2-43e3-fbdd-52712ac08311"
      },
      "execution_count": 46,
      "outputs": [
        {
          "output_type": "execute_result",
          "data": {
            "text/plain": [
              "'501 FAIRBURN ROAD SW'"
            ],
            "application/vnd.google.colaboratory.intrinsic+json": {
              "type": "string"
            }
          },
          "metadata": {},
          "execution_count": 46
        }
      ]
    },
    {
      "cell_type": "code",
      "source": [
        "get_address(\"Select Specialty Hospital - Northeast Atlanta\")"
      ],
      "metadata": {
        "colab": {
          "base_uri": "https://localhost:8080/",
          "height": 35
        },
        "id": "Q9NTfDi6vJC9",
        "outputId": "f4903507-12c1-4866-d103-51687f0af8f1"
      },
      "execution_count": 47,
      "outputs": [
        {
          "output_type": "execute_result",
          "data": {
            "text/plain": [
              "'1821 CLIFTON ROAD NE'"
            ],
            "application/vnd.google.colaboratory.intrinsic+json": {
              "type": "string"
            }
          },
          "metadata": {},
          "execution_count": 47
        }
      ]
    },
    {
      "cell_type": "code",
      "source": [
        "import doctest\n",
        "doctest.run_docstring_examples(get_address, globals(),verbose=True)"
      ],
      "metadata": {
        "colab": {
          "base_uri": "https://localhost:8080/"
        },
        "id": "Jl_lWafIvOn-",
        "outputId": "8c02eccb-3b08-4227-ffdf-18fc7244886d"
      },
      "execution_count": 48,
      "outputs": [
        {
          "output_type": "stream",
          "name": "stdout",
          "text": [
            "Finding tests in NoName\n",
            "Trying:\n",
            "    get_address(\"Wesley Woods Geriatric Hospital\")\n",
            "Expecting:\n",
            "    '1821 CLIFTON ROAD, NE'\n",
            "ok\n",
            "Trying:\n",
            "    get_address(\"Southwest Hospital and Medical Center\")\n",
            "Expecting:\n",
            "    '501 FAIRBURN ROAD SW'\n",
            "ok\n",
            "Trying:\n",
            "    get_address(\"Select Specialty Hospital - Northeast Atlanta\")\n",
            "Expecting:\n",
            "    '1821 CLIFTON ROAD NE'\n",
            "ok\n"
          ]
        }
      ]
    },
    {
      "cell_type": "markdown",
      "source": [],
      "metadata": {
        "id": "zVlKJeNbu78N"
      }
    },
    {
      "cell_type": "markdown",
      "metadata": {
        "id": "MHqWMPVuEat8"
      },
      "source": [
        "## Part 4: Run the risk calculator on a population\n",
        "\n",
        "At the link below, there is a file called `people.psv`.  It is a pipe-delimited (`|`) file with columns that match the inputs for the PRIEST calculation above.  Your code should use the `requests` module to retrieve the file from this URL.\n",
        "\n",
        "`https://drive.google.com/uc?export=download&id=1fLxJN9YGUqmqExrilxSS8furwUER5HHh`\n",
        "\n",
        "\n",
        "In addition, the file has a patient identifier in the first column.\n",
        "\n",
        "1. Write a function called **process_people()** that takes the file location above as its only parameter. Your Python program should use your code above to process all of these rows, determine the hospital and address, and return a list whose items are a dictionary like this: `{ patient_number: [sex, age, breath, o2sat, heart, systolic, temp, alertness, inspired, status, hospital, address]}`.  Look at the file in Part 5 for what the output looks like.\n",
        "2. Be sure to use good docstrings, but you don't need any tests in your doc strings.  I've provided those for you withe file in Part 5.\n",
        "\n",
        "\n",
        "**NOTE** that when running your code for all the 100 records in the `people.psv` file, it may take a few minutes to complete.  You're making multiple calls to the internet for each record, so that can take a little while.\n"
      ]
    },
    {
      "cell_type": "code",
      "execution_count": 49,
      "metadata": {
        "id": "G6CtkE-yEat8"
      },
      "outputs": [],
      "source": [
        "from collections import Counter\n",
        "\n",
        "import json\n",
        "import requests\n",
        "\n",
        "def process_people(url):\n",
        "    \"\"\"\n",
        "    (String) -> Dictionary\n",
        "\n",
        "    All patient information, including risk, hospital, and hospital address, will be generated by\n",
        "    this process_people method in a dictionary format.\n",
        "\n",
        "    This process_people function accepts url parameters and outputs a Dictionary object containing all patient data.\n",
        "\n",
        "    \"\"\"\n",
        "    empJSON = {}\n",
        "\n",
        "    urlContent = requests.get(url)\n",
        "    rowsWithDel = urlContent.text.split(\"\\n\")\n",
        "    try:\n",
        "         for d in rowsWithDel:\n",
        "                d = d.split('|')\n",
        "                if len(d)>1 and d[0]!='patient':\n",
        "                    patient,sex,age,respiratory_rate,oxygen_saturation,heart_rate,systolic_BP,temperature,alertness,inspired_oxygen,performance_status = d[:11]\n",
        "\n",
        "\n",
        "                    risk_percentage = priest(sex, float(age), float(respiratory_rate), float(oxygen_saturation), float(heart_rate), float(systolic_BP), float(temperature), alertness, inspired_oxygen, performance_status)\n",
        "\n",
        "                    name = find_hospital(int(age), sex, risk_percentage)\n",
        "\n",
        "                    empJSON[patient] = [sex, float(age), float(respiratory_rate), float(oxygen_saturation), float(heart_rate), float(systolic_BP), float(temperature), alertness, inspired_oxygen, performance_status, risk_percentage, name, get_address(name)]\n",
        "\n",
        "\n",
        "    except StopIteration:\n",
        "        return empJSON\n",
        "\n",
        "    return empJSON"
      ]
    },
    {
      "cell_type": "markdown",
      "metadata": {
        "id": "eo73bL_gEat8"
      },
      "source": [
        "## Part 5: Checking your final results\n",
        "\n",
        "The final step is to check your results.  You should be able to compare your results to the output in `people_results.json` at the link below.  Write some code to check your results.  This does not need to be a function.\n",
        "\n",
        "`https://drive.google.com/uc?export=download&id=1gx1SSC20mO5XL6uYD0mdcM_cL91fcIW5`\n"
      ]
    },
    {
      "cell_type": "code",
      "execution_count": 50,
      "metadata": {
        "id": "xYu32YmEEat8",
        "colab": {
          "base_uri": "https://localhost:8080/"
        },
        "outputId": "0d2c3a79-c6cd-4e68-f3f9-bcbea51b1c62"
      },
      "outputs": [
        {
          "output_type": "stream",
          "name": "stdout",
          "text": [
            "Calculated data object is equivalent to an API generated data object.\n"
          ]
        }
      ],
      "source": [
        "\"\"\"\n",
        "\n",
        " To compare data from the API with the outcome of the process_people method, use the code below.\n",
        "\n",
        " If they are not equal, it says \"Calculated JSON Object is Not Equal to Actual JSON Object\" and if they are, it says \"API JSON object is equal to Calculated JSON object.\"\n",
        "\n",
        "\"\"\"\n",
        "\n",
        "response = requests.get(\"https://hds5210-data.s3.amazonaws.com/people_results.json\")\n",
        "resp = response.json()\n",
        "calculated = process_people(\"https://hds5210-data.s3.amazonaws.com/people.psv\")\n",
        "if  json.loads(json.dumps(resp)) == json.loads(json.dumps(calculated)):\n",
        "    print(\"Calculated data object is equivalent to an API generated data object.\")\n",
        "else:\n",
        "    print(\"Calulated data Object is Not Equivalent to Actual data Object\")"
      ]
    },
    {
      "cell_type": "markdown",
      "metadata": {
        "id": "ILFWUg31Eat9"
      },
      "source": [
        "---\n",
        "\n",
        "## Check your work above\n",
        "\n",
        "If you didn't get them all correct, take a few minutes to think through those that aren't correct.\n",
        "\n",
        "\n",
        "## Submitting Your Work\n",
        "\n",
        "Submit your work as usual into a folder named `midterm`"
      ]
    },
    {
      "cell_type": "markdown",
      "metadata": {
        "id": "12KsQT-8Eat9"
      },
      "source": [
        "---"
      ]
    }
  ],
  "metadata": {
    "kernelspec": {
      "display_name": "Python 3",
      "language": "python",
      "name": "python3"
    },
    "language_info": {
      "codemirror_mode": {
        "name": "ipython",
        "version": 3
      },
      "file_extension": ".py",
      "mimetype": "text/x-python",
      "name": "python",
      "nbconvert_exporter": "python",
      "pygments_lexer": "ipython3",
      "version": "3.9.16"
    },
    "colab": {
      "provenance": [],
      "include_colab_link": true
    }
  },
  "nbformat": 4,
  "nbformat_minor": 0
}
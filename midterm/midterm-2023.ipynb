{
  "cells": [
    {
      "cell_type": "markdown",
      "metadata": {
        "colab_type": "text",
        "id": "view-in-github"
      },
      "source": [
        "<a href=\"https://colab.research.google.com/github/brangineni/5210-2023/blob/main/midterm/midterm-2023.ipynb\" target=\"_parent\"><img src=\"https://colab.research.google.com/assets/colab-badge.svg\" alt=\"Open In Colab\"/></a>"
      ]
    },
    {
      "cell_type": "markdown",
      "metadata": {
        "id": "voLew5o_Xtk4"
      },
      "source": [
        "# HDS5210-2022 Midterm\n",
        "\n",
        "In the midterm, you're going to use all the programming and data management skills you've developed so far to build a risk calculator that pretends to be integrated with a clinical registry.  You'll compute the PRIEST COVID-19 Clinical Severity Score for a series of patients and, based on their risk of an adverse outcome, query a REST web service to find a hospital to transfer them to. The end result of your work will be a list of instructions on where each patient should be discharged given their risk and various characteristics of the patient.\n",
        "\n",
        "Each step in the midterm will build up to form your complete solution.\n",
        "\n",
        "**Make sure you write good docstrings and doctests along the way!!**\n",
        "\n",
        "**The midterm is due at 11:59 PM CST on Monday, October 23rd.**\n",
        "\n",
        "---"
      ]
    },
    {
      "cell_type": "markdown",
      "metadata": {
        "id": "Dj2hfWY_Xtk8"
      },
      "source": [
        "## Step 1: Calculate PRIEST Clinical Severity Score\n",
        "\n",
        "This scoring algorithm can be found [here on the MDCalc website](https://www.mdcalc.com/priest-covid-19-clinical-severity-score#evidence).  \n",
        "\n",
        "1. You will need to write a function called **priest()** with the following input parameters.  \n",
        " * Sex (Gender assigned at birth)\n",
        " * Age in years\n",
        " * Respiratory rate in breaths per minute\n",
        " * Oxygen saturation as a percent between 0 and 1\n",
        " * Heart rate in beats per minute\n",
        " * Systolic BP in mmHg\n",
        " * Temperature in degrees C\n",
        " * Alertness as a string description\n",
        " * Inspired Oxygen as as string description\n",
        " * Performance Status as a string description\n",
        "2. The function will need to follow the algorithm provided on the MDCalc website to compute a risk percentage that should be returned as a numeric value between 0 and 1.\n",
        "3. Be sure to use docstring documentation and at least three built-in docstring test cases.\n",
        "4. Assume that the input values that are strings could be any combination of upper or lower case. For example: 'male', 'Male', 'MALE', 'MalE' should all be interpretted by your code as male.\n",
        "5. If any of the inputs are invalid (for example a sex value that is not recognizable as male or female) your code should return None.\n",
        "\n",
        "NOTES:\n",
        "1. In the final step there is a table that translates from **PRIEST Score** to **30-day probability of an outcome** but the last two probabilities are shown as ranges (59-88% and >99%).  Our code needs to output a single number, however. For our code, use the following rule:\n",
        " * If PRIEST score is between 17 and 25, the probability you return should be 0.59\n",
        " * If PRIEST score is greater than or equal to 26, the probability you return should be 0.99\n"
      ]
    },
    {
      "cell_type": "code",
      "execution_count": 1,
      "metadata": {
        "id": "uk-m-jfTXtk8"
      },
      "outputs": [],
      "source": [
        "def priest(sex, age, respirateRt, oxSaturation, hrtrate, bp, temperature, alertness, insOxygen, perfrmsts):\n",
        "\n",
        "    \"\"\"\n",
        "\n",
        "    (String, float, float, float, float, float, float, String, String, String) -> float)\n",
        "\n",
        "    The clinical Severity Score 'PRIEST' COVID-19's\n",
        "    risk percentage is calculated using the priest method.\n",
        "\n",
        "    Sex, alertness, insOxygen, and performance arguments are accepted by the priest function in String; all other arguments are accepted in float.\n",
        "\n",
        "    >>> priest(\"FEMALE\",80,23,0.96,105,115,38.1,\"ALERT\",\"supplemental oxygen\",\"limited activity, can self-care\")\n",
        "    0.34\n",
        "    >>> priest(\"Male\",16,10,0.96,105,115,38.1,\"ALERT\",\"AIR\",\"unrestricted normal activity\")\n",
        "    0.03\n",
        "\n",
        "    >>> priest(\"FEMALE\",18,23,0.96,135,115,38.1,\"ALERT\",\"AIR\",\"unrestricted normal activity\")\n",
        "    0.15\n",
        "\n",
        "    \"\"\"\n",
        "\n",
        "\n",
        "    prscr = 0\n",
        "\n",
        "    if sex.lower()==\"male\":\n",
        "        prscr = prscr + 1\n",
        "    elif sex.lower()==\"female\":\n",
        "        prscr = prscr + 0\n",
        "\n",
        "    if age>=16 and age<=49:\n",
        "        prscr = prscr + 0\n",
        "    elif age >= 50 and age<=65:\n",
        "        prscr = prscr + 2\n",
        "    elif age >= 66 and age<=80:\n",
        "        prscr = prscr + 3\n",
        "    elif age > 80:\n",
        "        prscr = prscr + 4\n",
        "\n",
        "\n",
        "    if alertness.lower() == \"confused or not alert\":\n",
        "        prscr = prscr +  3\n",
        "\n",
        "    if perfrmsts.lower() == \"limited self-care\":\n",
        "        prscr = prscr +  3\n",
        "    elif perfrmsts.lower() == \"limited activity, can self-care\":\n",
        "        prscr = prscr +  2\n",
        "    if perfrmsts.lower() == \"limited strenuous activity, can do light activity\":\n",
        "        prscr = prscr +  1\n",
        "    elif perfrmsts.lower() == \"bed/chair bound, no self-care\":\n",
        "        prscr = prscr +  4\n",
        "\n",
        "    if insOxygen.lower() == \"supplemental oxygen\":\n",
        "        prscr = prscr +  2\n",
        "    elif insOxygen.lower() == \"air\":\n",
        "        prscr = prscr +  0\n",
        "\n",
        "    if respirateRt < 9:\n",
        "        prscr = prscr +  3\n",
        "    if respirateRt > 24:\n",
        "        prscr = prscr +  3\n",
        "    elif respirateRt >= 21 and respirateRt <= 24:\n",
        "        prscr = prscr +  2\n",
        "    elif respirateRt >= 9 and respirateRt <= 11:\n",
        "        prscr = prscr +  1\n",
        "\n",
        "    if oxSaturation < 0.92:\n",
        "        prscr = prscr +  3\n",
        "    elif oxSaturation >= 0.94 and oxSaturation <= 0.95:\n",
        "        prscr = prscr +  1\n",
        "    elif oxSaturation >= 0.92 and oxSaturation <= 0.93:\n",
        "        prscr = prscr +  2\n",
        "\n",
        "    if hrtrate > 130:\n",
        "        prscr = prscr +  3\n",
        "    elif hrtrate >= 111 and hrtrate <= 130:\n",
        "        prscr = prscr +  2\n",
        "    elif hrtrate >= 91 and hrtrate <= 110:\n",
        "        prscr = prscr +  1\n",
        "    elif hrtrate < 41:\n",
        "        prscr = prscr +  3\n",
        "    elif hrtrate >= 41 and hrtrate <= 50:\n",
        "        prscr = prscr +  1\n",
        "\n",
        "\n",
        "    if bp > 219:\n",
        "        prscr = prscr +  3\n",
        "    elif bp >= 101 and bp <= 110:\n",
        "        prscr = prscr +  1\n",
        "    elif bp >= 91 and bp <= 100:\n",
        "        prscr = prscr +  2\n",
        "    elif bp < 91:\n",
        "        prscr = prscr +  3\n",
        "\n",
        "    if temperature > 39.0:\n",
        "        prscr = prscr +  2\n",
        "    elif temperature >= 38.1 and temperature <= 39.0:\n",
        "        prscr = prscr +  1\n",
        "    if temperature < 35.1:\n",
        "        prscr = prscr +  3\n",
        "    elif temperature >= 35.1 and temperature <= 36.0:\n",
        "        prscr = prscr +  1\n",
        "\n",
        "\n",
        "    percscale = [0.01, 0.01, 0.02, 0.02, 0.03, 0.09, 0.15, 0.18, 0.22, 0.26, 0.29, 0.34, 0.38, 0.46, 0.47, 0.49, 0.55, 0.59, 0.59, 0.59, 0.59, 0.59, 0.59, 0.59, 0.59, 0.59,0.99]\n",
        "    if prscr < 26:\n",
        "        return percscale[prscr]\n",
        "\n",
        "    return 0.99\n"
      ]
    },
    {
      "cell_type": "code",
      "execution_count": 2,
      "metadata": {
        "colab": {
          "base_uri": "https://localhost:8080/"
        },
        "id": "kRFklGpDXtk9",
        "outputId": "f5e6cbcb-e603-4225-ba1e-9ea82d3b3e62"
      },
      "outputs": [
        {
          "name": "stderr",
          "output_type": "stream",
          "text": [
            "\n",
            "PYDEV DEBUGGER WARNING:\n",
            "sys.settrace() should not be used when the debugger is being used.\n",
            "This may cause the debugger to stop working correctly.\n",
            "If this is needed, please check: \n",
            "http://pydev.blogspot.com/2007/06/why-cant-pydev-debugger-work-with.html\n",
            "to see how to restore the debug tracing back correctly.\n",
            "Call Location:\n",
            "  File \"/usr/lib/python3.10/doctest.py\", line 1501, in run\n",
            "    sys.settrace(save_trace)\n",
            "\n"
          ]
        },
        {
          "name": "stdout",
          "output_type": "stream",
          "text": [
            "Finding tests in NoName\n",
            "Trying:\n",
            "    priest(\"FEMALE\",80,23,0.96,105,115,38.1,\"ALERT\",\"supplemental oxygen\",\"limited activity, can self-care\")\n",
            "Expecting:\n",
            "    0.34\n",
            "ok\n",
            "Trying:\n",
            "    priest(\"Male\",16,10,0.96,105,115,38.1,\"ALERT\",\"AIR\",\"unrestricted normal activity\")\n",
            "Expecting:\n",
            "    0.03\n",
            "ok\n",
            "Trying:\n",
            "    priest(\"FEMALE\",18,23,0.96,135,115,38.1,\"ALERT\",\"AIR\",\"unrestricted normal activity\")\n",
            "Expecting:\n",
            "    0.15\n",
            "ok\n"
          ]
        }
      ],
      "source": [
        "import doctest\n",
        "doctest.run_docstring_examples(priest, globals(),verbose=True)"
      ]
    },
    {
      "cell_type": "markdown",
      "metadata": {
        "id": "qQjytR9vXtk-"
      },
      "source": [
        "## Part 2: Find a hospital\n",
        "\n",
        "The next thing we have to do is figure out where to send this particular patient.  The guidelines on where to send a patient are based on their age (pediatric, adult, geriatric), sex, and risk percentage.  Luckily, you don't have to implement these rules. I already have. All you have to do is use a REST web service that I've created for you.\n",
        "\n",
        "You'll want to use Python to make a call to my REST web service similar to the example URL below. The first part of the URL will be the same for everyone and every request that you make. What you will need to modify for each of your requests is the information after the question mark.\n",
        "\n",
        "```\n",
        "https://oumdj6oci2.execute-api.us-east-1.amazonaws.com/prd/?age=40&sex=male&risk_pct=0.1\n",
        "```\n",
        "\n",
        "The example above asks my web service where a 40-year old male with a risk of 10% should go.  What the web service will return back is a JSON string containing the information you need.  That JSON will look like this:\n",
        "\n",
        "```json\n",
        "{\n",
        "  \"age\": \"40\",\n",
        "  \"sex\": \"male\",\n",
        "  \"risk\": \"0.1\",\n",
        "  \"hospital\": \"Southwest Hospital and Medical Center\"\n",
        "}\n",
        "```\n",
        "\n",
        "My function is not smart enough to understand `'MALE'` is the same as `'male'`.  You have to send it exactly `'male'` or `'female'`\n",
        "\n",
        "1. Your job is to write a function called **find_hospital()** that takes age, sex, and risk as parameters.\n",
        "2. Your function should call this REST web service using the `requests` module\n",
        "3. Then your function will need to interpret the JSON it gets and return just the name of the hospital\n",
        "4. If anything fails, return None\n",
        "5. Include a good docstring with at least three test cases.\n"
      ]
    },
    {
      "cell_type": "code",
      "execution_count": 3,
      "metadata": {
        "id": "H5bUKE3FXtk-"
      },
      "outputs": [],
      "source": [
        "import requests\n",
        "import csv\n",
        "import json\n",
        "\n",
        "def find_hospital(age, sex, risk_percentage):\n",
        "    \"\"\"\n",
        "    (integer, String, float) -> String\n",
        "\n",
        "    Based on age, sex, and risk percentage, this find_hospital() method will locate the best hospital.\n",
        "\n",
        "    Age is supplied as an integer, sex is passed as a string, and riskPerc is passed as a float in the\n",
        "    find_hospital() method. returns the name of the output hospital as a String.\n",
        "\n",
        "\n",
        "    >>> find_hospital(66, \"FEMALE\", 0.55)\n",
        "    'Wesley Woods Geriatric Hospital'\n",
        "\n",
        "    >>> find_hospital(18, \"FEMALE\", 0.18)\n",
        "    'Select Specialty Hospital - Northeast Atlanta'\n",
        "\n",
        "    >>> find_hospital(18, \"MALE\", 0.18)\n",
        "    'Southwest Hospital and Medical Center'\n",
        "    \"\"\"\n",
        "    response = requests.get(\"https://oumdj6oci2.execute-api.us-east-1.amazonaws.com/prd/\",params={\"age\":age,\"sex\":sex.lower(),\"risk_pct\":risk_percentage})\n",
        "    name = (response.json())['hospital']\n",
        "    return name"
      ]
    },
    {
      "cell_type": "code",
      "execution_count": 4,
      "metadata": {
        "colab": {
          "base_uri": "https://localhost:8080/"
        },
        "id": "OblylWq-Xtk-",
        "outputId": "14f97242-1b98-4ee4-a102-36ab1fd0bc75"
      },
      "outputs": [
        {
          "name": "stdout",
          "output_type": "stream",
          "text": [
            "Finding tests in NoName\n",
            "Trying:\n",
            "    find_hospital(66, \"FEMALE\", 0.55)\n",
            "Expecting:\n",
            "    'Wesley Woods Geriatric Hospital'\n",
            "ok\n",
            "Trying:\n",
            "    find_hospital(18, \"FEMALE\", 0.18)\n",
            "Expecting:\n",
            "    'Select Specialty Hospital - Northeast Atlanta'\n",
            "ok\n",
            "Trying:\n",
            "    find_hospital(18, \"MALE\", 0.18)\n",
            "Expecting:\n",
            "    'Southwest Hospital and Medical Center'\n",
            "ok\n"
          ]
        }
      ],
      "source": [
        "import doctest\n",
        "doctest.run_docstring_examples(find_hospital, globals(),verbose=True)"
      ]
    },
    {
      "cell_type": "markdown",
      "metadata": {
        "id": "jVfPjRBGXtk-"
      },
      "source": [
        "## Part 3: Get the address for that hospital from a JSON file\n",
        "\n",
        "Great! Now we have code to tell us which hospital to send someone to... but we don't know where that hospital is. The next function we need to create is one that looks up the address of that hospital.  All of these hospitals are in Atlanta, Georgia.  We're going to use the list from this webpage to lookup the address for that hospital, based on its name.  https://www.officialusa.com/stateguides/health/hospitals/georgia.html\n",
        "\n",
        "Because we skipped the section about Beautiful Soup and working with HTML, I've converted this information into a JSON document for you.  It's available for you here.  Your code should retrieve this file using the `requests` module.\n",
        "\n",
        "`https://drive.google.com/uc?export=download&id=1fIFD-NkcdiMu941N4GjyMDWxiKsFJBw-`\n",
        "\n",
        "1. You need to create a function called **get_address()** that takes hospital name as a parameter and searches the data from this JSON file for the hospital you want to find.\n",
        "2. Your code will have to load the JSON and return the correct hospital based on name.\n",
        "3. If the hospital name isn't found, the function should return None.\n",
        "4. Be sure to use good docstring documentation and includes at least 3 test cases."
      ]
    },
    {
      "cell_type": "code",
      "execution_count": 5,
      "metadata": {
        "id": "b_VmgFsEXtk_"
      },
      "outputs": [],
      "source": [
        "def get_address(hospital):\n",
        "\n",
        "    \"\"\"\n",
        "    (String) -> String\n",
        "\n",
        "    This get_address method will locate the hospital's address from the rest api.\n",
        "\n",
        "    The hospital name is the input argument for the get_address method, which returns the address as a string.\n",
        "\n",
        "\n",
        "    >>> get_address(\"Wesley Woods Geriatric Hospital\")\n",
        "    '1821 CLIFTON ROAD, NE'\n",
        "\n",
        "    >>> get_address(\"Southwest Hospital and Medical Center\")\n",
        "    '501 FAIRBURN ROAD SW'\n",
        "\n",
        "    >>> get_address(\"Select Specialty Hospital - Northeast Atlanta\")\n",
        "    '1821 CLIFTON ROAD NE'\n",
        "\n",
        "    \"\"\"\n",
        "    response = requests.get(\"https://hds5210-data.s3.amazonaws.com/ga_hospitals.json\")\n",
        "    jso = response.json()\n",
        "    if hospital.upper() in jso:\n",
        "        return jso[hospital.upper()][\"ADDRESS\"]\n",
        "    else:\n",
        "        return \" Not able to find \""
      ]
    },
    {
      "cell_type": "code",
      "execution_count": 6,
      "metadata": {
        "colab": {
          "base_uri": "https://localhost:8080/",
          "height": 35
        },
        "id": "c0nXBuwbYNpY",
        "outputId": "0b39276a-29bf-4756-a5a5-bf2301713a14"
      },
      "outputs": [
        {
          "data": {
            "application/vnd.google.colaboratory.intrinsic+json": {
              "type": "string"
            },
            "text/plain": [
              "'1821 CLIFTON ROAD, NE'"
            ]
          },
          "execution_count": 6,
          "metadata": {},
          "output_type": "execute_result"
        }
      ],
      "source": [
        "get_address(\"Wesley Woods Geriatric Hospital\")"
      ]
    },
    {
      "cell_type": "code",
      "execution_count": 7,
      "metadata": {
        "colab": {
          "base_uri": "https://localhost:8080/",
          "height": 35
        },
        "id": "TkocgCnzYRSU",
        "outputId": "3a760728-126f-498f-d041-ecf40ec04ecc"
      },
      "outputs": [
        {
          "data": {
            "application/vnd.google.colaboratory.intrinsic+json": {
              "type": "string"
            },
            "text/plain": [
              "'501 FAIRBURN ROAD SW'"
            ]
          },
          "execution_count": 7,
          "metadata": {},
          "output_type": "execute_result"
        }
      ],
      "source": [
        "get_address(\"Southwest Hospital and Medical Center\")"
      ]
    },
    {
      "cell_type": "code",
      "execution_count": 8,
      "metadata": {
        "colab": {
          "base_uri": "https://localhost:8080/",
          "height": 35
        },
        "id": "YZAjFVPbYUgd",
        "outputId": "819dac3f-de48-4295-a892-1b66ada928b5"
      },
      "outputs": [
        {
          "data": {
            "application/vnd.google.colaboratory.intrinsic+json": {
              "type": "string"
            },
            "text/plain": [
              "'1821 CLIFTON ROAD NE'"
            ]
          },
          "execution_count": 8,
          "metadata": {},
          "output_type": "execute_result"
        }
      ],
      "source": [
        "get_address(\"Select Specialty Hospital - Northeast Atlanta\")"
      ]
    },
    {
      "cell_type": "code",
      "execution_count": 9,
      "metadata": {
        "colab": {
          "base_uri": "https://localhost:8080/"
        },
        "id": "ccVxQVkgYZzc",
        "outputId": "da2847dd-f627-4356-adb9-5810ffb21786"
      },
      "outputs": [
        {
          "name": "stdout",
          "output_type": "stream",
          "text": [
            "Finding tests in NoName\n",
            "Trying:\n",
            "    get_address(\"Wesley Woods Geriatric Hospital\")\n",
            "Expecting:\n",
            "    '1821 CLIFTON ROAD, NE'\n",
            "ok\n",
            "Trying:\n",
            "    get_address(\"Southwest Hospital and Medical Center\")\n",
            "Expecting:\n",
            "    '501 FAIRBURN ROAD SW'\n",
            "ok\n",
            "Trying:\n",
            "    get_address(\"Select Specialty Hospital - Northeast Atlanta\")\n",
            "Expecting:\n",
            "    '1821 CLIFTON ROAD NE'\n",
            "ok\n"
          ]
        }
      ],
      "source": [
        "import doctest\n",
        "doctest.run_docstring_examples(get_address, globals(),verbose=True)"
      ]
    },
    {
      "cell_type": "markdown",
      "metadata": {
        "id": "OJ8gi7bsXtk_"
      },
      "source": [
        "## Part 4: Run the risk calculator on a population\n",
        "\n",
        "At the link below, there is a file called `people.psv`.  It is a pipe-delimited (`|`) file with columns that match the inputs for the PRIEST calculation above.  Your code should use the `requests` module to retrieve the file from this URL.\n",
        "\n",
        "`https://drive.google.com/uc?export=download&id=1fLxJN9YGUqmqExrilxSS8furwUER5HHh`\n",
        "\n",
        "\n",
        "In addition, the file has a patient identifier in the first column.\n",
        "\n",
        "1. Write a function called **process_people()** that takes the file location above as its only parameter. Your Python program should use your code above to process all of these rows, determine the hospital and address, and return a list whose items are a dictionary like this: `{ patient_number: [sex, age, breath, o2sat, heart, systolic, temp, alertness, inspired, status, hospital, address]}`.  Look at the file in Part 5 for what the output looks like.\n",
        "2. Be sure to use good docstrings, but you don't need any tests in your doc strings.  I've provided those for you withe file in Part 5.\n",
        "\n",
        "\n",
        "**NOTE** that when running your code for all the 100 records in the `people.psv` file, it may take a few minutes to complete.  You're making multiple calls to the internet for each record, so that can take a little while.\n"
      ]
    },
    {
      "cell_type": "code",
      "execution_count": 10,
      "metadata": {
        "colab": {
          "base_uri": "https://localhost:8080/"
        },
        "id": "UAOgTmzQXtk_",
        "outputId": "aa939011-5a70-47b3-bf4c-8f3558b2130c"
      },
      "outputs": [
        {
          "name": "stdout",
          "output_type": "stream",
          "text": [
            "{'E9559': ['FEMALE', 40.0, 24.0, 0.96, 105.0, 115.0, 34.9, 'ALERT', 'AIR', 'unrestricted normal activity', 0.15, 'Select Specialty Hospital - Northeast Atlanta', '1821 CLIFTON ROAD NE'], 'E9385': ['Female', 51.0, 19.0, 0.99, 90.0, 91.0, 38.1, 'ALERT', 'supplemental oxygen', 'unrestricted normal activity', 0.18, 'Select Specialty Hospital - Northeast Atlanta', '1821 CLIFTON ROAD NE'], 'E3067': ['female', 40.0, 29.0, 0.96, 105.0, 95.0, 38.1, 'ALERT', 'air', 'unrestricted normal activity', 0.18, 'Select Specialty Hospital - Northeast Atlanta', '1821 CLIFTON ROAD NE'], 'E9422': ['FEMALE', 66.0, 19.0, 0.96, 135.0, 115.0, 38.1, 'ALERT', 'AIR', 'bed/chair bound, no self-care', 0.34, 'Wesley Woods Geriatric Hospital', '1821 CLIFTON ROAD, NE'], 'E8661': ['MALE', 18.0, 22.0, 0.95, 105.0, 115.0, 36.3, 'Confused or Not Alert', 'air', 'unrestricted normal activity', 0.22, 'Southwest Hospital and Medical Center', '501 FAIRBURN ROAD SW'], 'E6235': ['Male', 16.0, 23.0, 0.96, 135.0, 115.0, 39.2, 'ALERT', 'supplemental oxygen', 'unrestricted normal activity', 0.29, 'Childrens Healthcare of Atlanta at Scottish Rite', '1001 JOHNSON FERRY RD'], 'E4451': ['MALE', 40.0, 8.0, 0.96, 135.0, 115.0, 38.1, 'ALERT', 'AIR', 'unrestricted normal activity', 0.22, 'Southwest Hospital and Medical Center', '501 FAIRBURN ROAD SW'], 'E8433': ['FEMALE', 40.0, 23.0, 0.99, 89.0, 91.0, 38.1, 'ALERT', 'AIR', 'limited self-care', 0.22, 'Select Specialty Hospital - Northeast Atlanta', '1821 CLIFTON ROAD NE'], 'E7593': ['FEMALE', 80.0, 23.0, 0.96, 105.0, 115.0, 38.1, 'ALERT', 'supplemental oxygen', 'limited activity, can self-care', 0.34, 'Wesley Woods Geriatric Hospital', '1821 CLIFTON ROAD, NE'], 'E3296': ['MALE', 51.0, 23.0, 0.95, 105.0, 115.0, 38.1, 'ALERT', 'AIR', 'unrestricted normal activity', 0.22, 'Southwest Hospital and Medical Center', '501 FAIRBURN ROAD SW'], 'E4157': ['FEMALE', 40.0, 23.0, 0.96, 41.0, 115.0, 35.4, 'ALERT', 'AIR', 'unrestricted normal activity', 0.03, 'Select Specialty Hospital - Northeast Atlanta', '1821 CLIFTON ROAD NE'], 'E7702': ['FEMALE', 40.0, 22.0, 0.96, 105.0, 115.0, 38.1, 'ALERT', 'supplemental oxygen', 'unrestricted normal activity', 0.15, 'Select Specialty Hospital - Northeast Atlanta', '1821 CLIFTON ROAD NE'], 'E8158': ['MALE', 40.0, 20.0, 0.99, 135.0, 115.0, 39.2, 'ALERT', 'AIR', 'unrestricted normal activity', 0.15, 'Southwest Hospital and Medical Center', '501 FAIRBURN ROAD SW'], 'E4795': ['female', 80.0, 11.0, 0.93, 105.0, 95.0, 40.8, 'ALERT', 'AIR', 'limited activity, can self-care', 0.46, 'Wesley Woods Geriatric Hospital', '1821 CLIFTON ROAD, NE'], 'E8800': ['MALE', 80.0, 22.0, 0.96, 105.0, 115.0, 39.2, 'confused or not alert', 'AIR', 'limited activity, can self-care', 0.47, 'Wesley Woods Geriatric Hospital', '1821 CLIFTON ROAD, NE'], 'E4855': ['female', 51.0, 23.0, 0.94, 135.0, 115.0, 38.1, 'ALERT', 'AIR', 'limited strenuous activity, can do light activity', 0.29, 'Select Specialty Hospital - Northeast Atlanta', '1821 CLIFTON ROAD NE'], 'E9691': ['Male', 16.0, 10.0, 0.96, 105.0, 115.0, 38.1, 'ALERT', 'AIR', 'unrestricted normal activity', 0.03, 'Childrens Healthcare of Atlanta at Scottish Rite', '1001 JOHNSON FERRY RD'], 'E4535': ['FEMALE', 19.0, 11.0, 0.99, 105.0, 115.0, 35.4, 'ALERT', 'AIR', 'unrestricted normal activity', 0.02, 'Select Specialty Hospital - Northeast Atlanta', '1821 CLIFTON ROAD NE'], 'E2360': ['Male', 40.0, 20.0, 0.96, 51.0, 95.0, 34.9, 'alert', 'supplemental oxygen', 'unrestricted normal activity', 0.22, 'Southwest Hospital and Medical Center', '501 FAIRBURN ROAD SW'], 'E3447': ['MALE', 80.0, 22.0, 0.96, 41.0, 115.0, 38.1, 'ALERT', 'AIR', 'limited activity, can self-care', 0.29, 'Wesley Woods Geriatric Hospital', '1821 CLIFTON ROAD, NE'], 'E8208': ['FEMALE', 18.0, 23.0, 0.96, 135.0, 115.0, 38.1, 'ALERT', 'AIR', 'unrestricted normal activity', 0.15, 'Select Specialty Hospital - Northeast Atlanta', '1821 CLIFTON ROAD NE'], 'E4428': ['FEMALE', 40.0, 23.0, 0.96, 38.0, 115.0, 36.3, 'ALERT', 'AIR', 'unrestricted normal activity', 0.09, 'Select Specialty Hospital - Northeast Atlanta', '1821 CLIFTON ROAD NE'], 'E2766': ['Male', 18.0, 23.0, 0.96, 105.0, 115.0, 34.9, 'ALERT', 'AIR', 'unrestricted normal activity', 0.18, 'Southwest Hospital and Medical Center', '501 FAIRBURN ROAD SW'], 'E3888': ['FEMALE', 51.0, 19.0, 0.96, 135.0, 115.0, 34.9, 'ALERT', 'AIR', 'unrestricted normal activity', 0.22, 'Select Specialty Hospital - Northeast Atlanta', '1821 CLIFTON ROAD NE'], 'E7110': ['female', 85.0, 24.0, 0.99, 105.0, 101.0, 40.8, 'Confused or Not Alert', 'AIR', 'unrestricted normal activity', 0.46, 'Wesley Woods Geriatric Hospital', '1821 CLIFTON ROAD, NE'], 'E2668': ['FEMALE', 18.0, 22.0, 0.96, 105.0, 101.0, 38.1, 'ALERT', 'AIR', 'unrestricted normal activity', 0.09, 'Select Specialty Hospital - Northeast Atlanta', '1821 CLIFTON ROAD NE'], 'E8482': ['Male', 40.0, 22.0, 0.96, 105.0, 230.0, 36.3, 'ALERT', 'AIR', 'limited self-care', 0.29, 'Southwest Hospital and Medical Center', '501 FAIRBURN ROAD SW'], 'E9619': ['FEMALE', 40.0, 11.0, 0.98, 41.0, 115.0, 38.1, 'ALERT', 'AIR', 'unrestricted normal activity', 0.02, 'Select Specialty Hospital - Northeast Atlanta', '1821 CLIFTON ROAD NE'], 'E1700': ['male', 40.0, 23.0, 0.96, 105.0, 115.0, 38.1, 'Confused or Not Alert', 'AIR', 'unrestricted normal activity', 0.22, 'Southwest Hospital and Medical Center', '501 FAIRBURN ROAD SW'], 'E8585': ['MALE', 19.0, 8.0, 0.96, 105.0, 115.0, 36.3, 'alert', 'AIR', 'bed/chair bound, no self-care', 0.26, 'Southwest Hospital and Medical Center', '501 FAIRBURN ROAD SW'], 'E8633': ['FEMALE', 40.0, 22.0, 0.96, 38.0, 91.0, 35.4, 'ALERT', 'AIR', 'unrestricted normal activity', 0.22, 'Select Specialty Hospital - Northeast Atlanta', '1821 CLIFTON ROAD NE'], 'E2117': ['FEMALE', 16.0, 22.0, 0.96, 135.0, 115.0, 39.2, 'Confused or Not Alert', 'supplemental oxygen', 'bed/chair bound, no self-care', 0.55, 'Hughes Spalding Childrens Hospital', '1711 TULLIE CIRCLE NE'], 'E2322': ['female', 18.0, 22.0, 0.96, 105.0, 115.0, 38.1, 'alert', 'supplemental oxygen', 'unrestricted normal activity', 0.15, 'Select Specialty Hospital - Northeast Atlanta', '1821 CLIFTON ROAD NE'], 'E6912': ['FEMALE', 51.0, 23.0, 0.96, 105.0, 95.0, 34.9, 'ALERT', 'AIR', 'unrestricted normal activity', 0.29, 'Select Specialty Hospital - Northeast Atlanta', '1821 CLIFTON ROAD NE'], 'E5702': ['Male', 80.0, 23.0, 0.96, 135.0, 115.0, 38.1, 'ALERT', 'AIR', 'unrestricted normal activity', 0.29, 'Wesley Woods Geriatric Hospital', '1821 CLIFTON ROAD, NE'], 'E5513': ['FEMALE', 18.0, 12.0, 0.96, 105.0, 115.0, 38.1, 'ALERT', 'AIR', 'unrestricted normal activity', 0.02, 'Select Specialty Hospital - Northeast Atlanta', '1821 CLIFTON ROAD NE'], 'E1861': ['FEMALE', 18.0, 22.0, 0.96, 105.0, 230.0, 38.1, 'ALERT', 'AIR', 'limited strenuous activity, can do light activity', 0.22, 'Select Specialty Hospital - Northeast Atlanta', '1821 CLIFTON ROAD NE'], 'E4809': ['FEMALE', 40.0, 22.0, 0.96, 41.0, 230.0, 38.1, 'ALERT', 'AIR', 'unrestricted normal activity', 0.18, 'Select Specialty Hospital - Northeast Atlanta', '1821 CLIFTON ROAD NE'], 'E1365': ['MALE', 22.0, 22.0, 0.96, 115.0, 101.0, 35.4, 'ALERT', 'AIR', 'bed/chair bound, no self-care', 0.34, 'Emory Dunwoody Medical Center', '4500 NORTH SHALLOWFORD ROAD'], 'E5984': ['Male', 40.0, 12.0, 0.93, 105.0, 91.0, 35.1, 'ALERT', 'AIR', 'limited activity, can self-care', 0.26, 'Southwest Hospital and Medical Center', '501 FAIRBURN ROAD SW'], 'E7013': ['FEMALE', 66.0, 23.0, 0.96, 135.0, 89.0, 40.8, 'ALERT', 'supplemental oxygen', 'unrestricted normal activity', 0.49, 'Wesley Woods Geriatric Hospital', '1821 CLIFTON ROAD, NE'], 'E2331': ['female', 18.0, 23.0, 0.98, 105.0, 115.0, 38.1, 'ALERT', 'AIR', 'limited self-care', 0.18, 'Select Specialty Hospital - Northeast Atlanta', '1821 CLIFTON ROAD NE'], 'E9938': ['MALE', 18.0, 12.0, 0.96, 105.0, 89.0, 35.1, 'ALERT', 'AIR', 'unrestricted normal activity', 0.15, 'Southwest Hospital and Medical Center', '501 FAIRBURN ROAD SW'], 'E5121': ['Female', 18.0, 23.0, 0.96, 41.0, 95.0, 38.1, 'ALERT', 'supplemental oxygen', 'limited activity, can self-care', 0.29, 'Select Specialty Hospital - Northeast Atlanta', '1821 CLIFTON ROAD NE'], 'E9280': ['male', 65.0, 10.0, 0.96, 135.0, 91.0, 38.1, 'ALERT', 'AIR', 'unrestricted normal activity', 0.29, 'Wesley Woods Geriatric Hospital', '1821 CLIFTON ROAD, NE'], 'E4762': ['FEMALE', 40.0, 12.0, 0.98, 105.0, 95.0, 38.1, 'ALERT', 'AIR', 'unrestricted normal activity', 0.03, 'Select Specialty Hospital - Northeast Atlanta', '1821 CLIFTON ROAD NE'], 'E6885': ['MALE', 18.0, 23.0, 0.93, 89.0, 115.0, 35.1, 'confused or not alert', 'AIR', 'limited activity, can self-care', 0.34, 'Emory Dunwoody Medical Center', '4500 NORTH SHALLOWFORD ROAD'], 'E1695': ['FEMALE', 40.0, 22.0, 0.96, 41.0, 115.0, 38.1, 'ALERT', 'AIR', 'unrestricted normal activity', 0.03, 'Select Specialty Hospital - Northeast Atlanta', '1821 CLIFTON ROAD NE'], 'E9658': ['Female', 18.0, 10.0, 0.96, 90.0, 230.0, 38.1, 'ALERT', 'AIR', 'limited self-care', 0.22, 'Select Specialty Hospital - Northeast Atlanta', '1821 CLIFTON ROAD NE'], 'E1961': ['FEMALE', 65.0, 23.0, 0.96, 105.0, 115.0, 40.8, 'ALERT', 'AIR', 'limited activity, can self-care', 0.26, 'Wesley Woods Geriatric Hospital', '1821 CLIFTON ROAD, NE'], 'E9154': ['FEMALE', 66.0, 8.0, 0.94, 105.0, 89.0, 35.4, 'alert', 'AIR', 'bed/chair bound, no self-care', 0.55, 'Wesley Woods Geriatric Hospital', '1821 CLIFTON ROAD, NE'], 'E9417': ['FEMALE', 40.0, 23.0, 0.96, 105.0, 95.0, 38.1, 'alert', 'AIR', 'unrestricted normal activity', 0.15, 'Select Specialty Hospital - Northeast Atlanta', '1821 CLIFTON ROAD NE'], 'E9979': ['Male', 18.0, 8.0, 0.96, 105.0, 115.0, 38.1, 'ALERT', 'AIR', 'limited strenuous activity, can do light activity', 0.18, 'Southwest Hospital and Medical Center', '501 FAIRBURN ROAD SW'], 'E9316': ['MALE', 18.0, 23.0, 0.96, 135.0, 115.0, 38.1, 'ALERT', 'AIR', 'unrestricted normal activity', 0.18, 'Southwest Hospital and Medical Center', '501 FAIRBURN ROAD SW'], 'E8146': ['Male', 18.0, 12.0, 0.96, 115.0, 115.0, 38.1, 'ALERT', 'AIR', 'unrestricted normal activity', 0.03, 'Southwest Hospital and Medical Center', '501 FAIRBURN ROAD SW'], 'E3093': ['female', 40.0, 29.0, 0.96, 105.0, 95.0, 38.1, 'ALERT', 'AIR', 'unrestricted normal activity', 0.18, 'Select Specialty Hospital - Northeast Atlanta', '1821 CLIFTON ROAD NE'], 'E8829': ['male', 65.0, 12.0, 0.96, 51.0, 230.0, 38.1, 'alert', 'AIR', 'unrestricted normal activity', 0.18, 'Wesley Woods Geriatric Hospital', '1821 CLIFTON ROAD, NE'], 'E1453': ['male', 18.0, 24.0, 0.99, 105.0, 115.0, 38.1, 'ALERT', 'AIR', 'unrestricted normal activity', 0.09, 'Southwest Hospital and Medical Center', '501 FAIRBURN ROAD SW'], 'E5777': ['female', 66.0, 23.0, 0.96, 115.0, 89.0, 38.1, 'ALERT', 'AIR', 'limited strenuous activity, can do light activity', 0.38, 'Wesley Woods Geriatric Hospital', '1821 CLIFTON ROAD, NE'], 'E4564': ['FEMALE', 18.0, 24.0, 0.96, 41.0, 115.0, 35.1, 'confused or not alert', 'AIR', 'unrestricted normal activity', 0.18, 'Select Specialty Hospital - Northeast Atlanta', '1821 CLIFTON ROAD NE'], 'E1904': ['FEMALE', 40.0, 22.0, 0.93, 38.0, 95.0, 38.1, 'Confused or Not Alert', 'AIR', 'unrestricted normal activity', 0.46, 'Emory Dunwoody Medical Center', '4500 NORTH SHALLOWFORD ROAD'], 'E8746': ['Female', 40.0, 12.0, 0.93, 105.0, 115.0, 38.1, 'ALERT', 'AIR', 'unrestricted normal activity', 0.03, 'Select Specialty Hospital - Northeast Atlanta', '1821 CLIFTON ROAD NE'], 'E9165': ['FEMALE', 19.0, 22.0, 0.98, 50.0, 95.0, 38.1, 'ALERT', 'AIR', 'limited activity, can self-care', 0.22, 'Select Specialty Hospital - Northeast Atlanta', '1821 CLIFTON ROAD NE'], 'E9305': ['FEMALE', 40.0, 8.0, 0.89, 105.0, 101.0, 38.1, 'ALERT', 'supplemental oxygen', 'unrestricted normal activity', 0.34, 'Emory Dunwoody Medical Center', '4500 NORTH SHALLOWFORD ROAD'], 'E3217': ['Female', 40.0, 10.0, 0.95, 105.0, 95.0, 38.1, 'ALERT', 'AIR', 'unrestricted normal activity', 0.15, 'Select Specialty Hospital - Northeast Atlanta', '1821 CLIFTON ROAD NE'], 'E3127': ['Female', 40.0, 8.0, 0.96, 38.0, 115.0, 36.3, 'ALERT', 'AIR', 'limited strenuous activity, can do light activity', 0.18, 'Select Specialty Hospital - Northeast Atlanta', '1821 CLIFTON ROAD NE'], 'E7501': ['female', 18.0, 23.0, 0.96, 135.0, 115.0, 38.1, 'ALERT', 'AIR', 'unrestricted normal activity', 0.15, 'Select Specialty Hospital - Northeast Atlanta', '1821 CLIFTON ROAD NE'], 'E4997': ['female', 40.0, 23.0, 0.94, 105.0, 115.0, 36.3, 'ALERT', 'AIR', 'unrestricted normal activity', 0.03, 'Select Specialty Hospital - Northeast Atlanta', '1821 CLIFTON ROAD NE'], 'E6181': ['female', 19.0, 23.0, 0.96, 89.0, 115.0, 38.1, 'ALERT', 'AIR', 'unrestricted normal activity', 0.02, 'Select Specialty Hospital - Northeast Atlanta', '1821 CLIFTON ROAD NE'], 'E1073': ['FEMALE', 18.0, 24.0, 0.95, 50.0, 115.0, 38.1, 'Confused or Not Alert', 'AIR', 'limited self-care', 0.34, 'Emory Dunwoody Medical Center', '4500 NORTH SHALLOWFORD ROAD'], 'E9608': ['female', 80.0, 12.0, 0.96, 50.0, 89.0, 38.1, 'ALERT', 'AIR', 'unrestricted normal activity', 0.22, 'Wesley Woods Geriatric Hospital', '1821 CLIFTON ROAD, NE'], 'E7663': ['FEMALE', 18.0, 11.0, 0.96, 105.0, 115.0, 38.1, 'ALERT', 'air', 'limited self-care', 0.15, 'Select Specialty Hospital - Northeast Atlanta', '1821 CLIFTON ROAD NE'], 'E7648': ['female', 66.0, 12.0, 0.98, 41.0, 115.0, 34.9, 'ALERT', 'air', 'unrestricted normal activity', 0.18, 'Wesley Woods Geriatric Hospital', '1821 CLIFTON ROAD, NE'], 'E1883': ['male', 40.0, 10.0, 0.98, 105.0, 115.0, 38.1, 'ALERT', 'AIR', 'unrestricted normal activity', 0.03, 'Southwest Hospital and Medical Center', '501 FAIRBURN ROAD SW'], 'E2001': ['FEMALE', 18.0, 12.0, 0.99, 51.0, 115.0, 38.1, 'Confused or Not Alert', 'AIR', 'unrestricted normal activity', 0.03, 'Select Specialty Hospital - Northeast Atlanta', '1821 CLIFTON ROAD NE'], 'E2418': ['male', 18.0, 20.0, 0.94, 105.0, 115.0, 35.4, 'ALERT', 'air', 'unrestricted normal activity', 0.03, 'Southwest Hospital and Medical Center', '501 FAIRBURN ROAD SW'], 'E3739': ['Male', 85.0, 10.0, 0.96, 105.0, 115.0, 38.1, 'Confused or Not Alert', 'supplemental oxygen', 'unrestricted normal activity', 0.46, 'Wesley Woods Geriatric Hospital', '1821 CLIFTON ROAD, NE'], 'E8351': ['FEMALE', 40.0, 23.0, 0.96, 90.0, 101.0, 38.1, 'ALERT', 'AIR', 'unrestricted normal activity', 0.03, 'Select Specialty Hospital - Northeast Atlanta', '1821 CLIFTON ROAD NE'], 'E2882': ['Male', 51.0, 24.0, 0.98, 105.0, 91.0, 38.1, 'ALERT', 'AIR', 'unrestricted normal activity', 0.26, 'Southwest Hospital and Medical Center', '501 FAIRBURN ROAD SW'], 'E1902': ['Female', 85.0, 22.0, 0.96, 105.0, 115.0, 38.1, 'ALERT', 'supplemental oxygen', 'unrestricted normal activity', 0.29, 'Wesley Woods Geriatric Hospital', '1821 CLIFTON ROAD, NE'], 'E2155': ['Male', 18.0, 22.0, 0.94, 105.0, 115.0, 38.1, 'ALERT', 'air', 'limited self-care', 0.26, 'Southwest Hospital and Medical Center', '501 FAIRBURN ROAD SW'], 'E4345': ['Female', 40.0, 19.0, 0.89, 41.0, 115.0, 34.9, 'ALERT', 'air', 'unrestricted normal activity', 0.18, 'Select Specialty Hospital - Northeast Atlanta', '1821 CLIFTON ROAD NE'], 'E4194': ['FEMALE', 40.0, 12.0, 0.95, 105.0, 91.0, 38.1, 'ALERT', 'AIR', 'limited self-care', 0.22, 'Select Specialty Hospital - Northeast Atlanta', '1821 CLIFTON ROAD NE'], 'E5211': ['male', 65.0, 22.0, 0.96, 41.0, 115.0, 38.1, 'ALERT', 'AIR', 'unrestricted normal activity', 0.18, 'Wesley Woods Geriatric Hospital', '1821 CLIFTON ROAD, NE'], 'E5488': ['Female', 40.0, 12.0, 0.94, 105.0, 101.0, 38.1, 'ALERT', 'AIR', 'unrestricted normal activity', 0.03, 'Select Specialty Hospital - Northeast Atlanta', '1821 CLIFTON ROAD NE'], 'E8560': ['FEMALE', 40.0, 23.0, 0.96, 41.0, 115.0, 35.1, 'confused or not alert', 'AIR', 'unrestricted normal activity', 0.18, 'Select Specialty Hospital - Northeast Atlanta', '1821 CLIFTON ROAD NE'], 'E2995': ['FEMALE', 18.0, 20.0, 0.99, 105.0, 95.0, 35.1, 'alert', 'AIR', 'unrestricted normal activity', 0.03, 'Select Specialty Hospital - Northeast Atlanta', '1821 CLIFTON ROAD NE'], 'E3422': ['FEMALE', 40.0, 8.0, 0.96, 105.0, 115.0, 35.4, 'ALERT', 'AIR', 'unrestricted normal activity', 0.09, 'Select Specialty Hospital - Northeast Atlanta', '1821 CLIFTON ROAD NE'], 'E7707': ['Female', 18.0, 20.0, 0.96, 38.0, 115.0, 36.3, 'ALERT', 'air', 'limited strenuous activity, can do light activity', 0.03, 'Select Specialty Hospital - Northeast Atlanta', '1821 CLIFTON ROAD NE'], 'E3119': ['FEMALE', 18.0, 20.0, 0.99, 135.0, 89.0, 35.1, 'ALERT', 'supplemental oxygen', 'unrestricted normal activity', 0.26, 'Select Specialty Hospital - Northeast Atlanta', '1821 CLIFTON ROAD NE'], 'E1419': ['male', 65.0, 23.0, 0.99, 105.0, 91.0, 38.1, 'alert', 'AIR', 'unrestricted normal activity', 0.26, 'Wesley Woods Geriatric Hospital', '1821 CLIFTON ROAD, NE'], 'E7748': ['male', 40.0, 23.0, 0.93, 105.0, 115.0, 38.1, 'ALERT', 'supplemental oxygen', 'unrestricted normal activity', 0.26, 'Southwest Hospital and Medical Center', '501 FAIRBURN ROAD SW'], 'E7251': ['Female', 40.0, 12.0, 0.96, 105.0, 91.0, 38.1, 'alert', 'AIR', 'unrestricted normal activity', 0.03, 'Select Specialty Hospital - Northeast Atlanta', '1821 CLIFTON ROAD NE'], 'E1235': ['FEMALE', 40.0, 29.0, 0.96, 41.0, 115.0, 38.1, 'ALERT', 'AIR', 'bed/chair bound, no self-care', 0.26, 'Select Specialty Hospital - Northeast Atlanta', '1821 CLIFTON ROAD NE'], 'E5361': ['FEMALE', 18.0, 22.0, 0.93, 90.0, 101.0, 38.1, 'confused or not alert', 'AIR', 'unrestricted normal activity', 0.26, 'Select Specialty Hospital - Northeast Atlanta', '1821 CLIFTON ROAD NE'], 'E7130': ['FEMALE', 18.0, 22.0, 0.96, 50.0, 115.0, 38.1, 'ALERT', 'AIR', 'limited strenuous activity, can do light activity', 0.09, 'Select Specialty Hospital - Northeast Atlanta', '1821 CLIFTON ROAD NE'], 'E5665': ['FEMALE', 85.0, 23.0, 0.96, 115.0, 115.0, 38.1, 'ALERT', 'AIR', 'unrestricted normal activity', 0.26, 'Wesley Woods Geriatric Hospital', '1821 CLIFTON ROAD, NE'], 'E9957': ['Female', 40.0, 22.0, 0.98, 89.0, 230.0, 38.1, 'alert', 'AIR', 'unrestricted normal activity', 0.15, 'Select Specialty Hospital - Northeast Atlanta', '1821 CLIFTON ROAD NE'], 'E10000': ['FEMALE', 18.0, 23.0, 0.96, 105.0, 101.0, 38.1, 'ALERT', 'AIR', 'limited activity, can self-care', 0.18, 'Select Specialty Hospital - Northeast Atlanta', '1821 CLIFTON ROAD NE']}\n"
          ]
        }
      ],
      "source": [
        "import json\n",
        "import requests\n",
        "\n",
        "def process_people(url):\n",
        "    \"\"\"\n",
        "    (String) -> Dictionary\n",
        "\n",
        "    All patient information, including risk, hospital, and hospital address, will be generated by\n",
        "    this process_people method in a dictionary format.\n",
        "\n",
        "    This process_people function accepts url parameters and outputs a Dictionary object containing all patient data.\n",
        "\n",
        "    \"\"\"\n",
        "    empJSON = {}\n",
        "\n",
        "    urlContent = requests.get(url)\n",
        "    rowsWithDel = urlContent.text.split(\"\\n\")\n",
        "    try:\n",
        "         for d in rowsWithDel:\n",
        "                d = d.split('|')\n",
        "                if len(d)>1 and d[0]!='patient':\n",
        "                    patient,sex,age,respiratory_rate,oxygen_saturation,heart_rate,systolic_BP,temperature,alertness,inspired_oxygen,performance_status = d[:11]\n",
        "\n",
        "\n",
        "                    risk_percentage = priest(sex, float(age), float(respiratory_rate), float(oxygen_saturation), float(heart_rate), float(systolic_BP), float(temperature), alertness, inspired_oxygen, performance_status)\n",
        "\n",
        "                    name = find_hospital(int(age), sex, risk_percentage)\n",
        "\n",
        "                    empJSON[patient] = [sex, float(age), float(respiratory_rate), float(oxygen_saturation), float(heart_rate), float(systolic_BP), float(temperature), alertness, inspired_oxygen, performance_status, risk_percentage, name, get_address(name)]\n",
        "\n",
        "\n",
        "    except StopIteration:\n",
        "        return empJSON\n",
        "\n",
        "    return empJSON\n",
        "\n",
        "print(process_people(\"https://hds5210-data.s3.amazonaws.com/people.psv\"))"
      ]
    },
    {
      "cell_type": "markdown",
      "metadata": {
        "id": "jmZJMDlPXtk_"
      },
      "source": [
        "## Part 5: Checking your final results\n",
        "\n",
        "The final step is to check your results.  You should be able to compare your results to the output in `people_results.json` at the link below.  Write some code to check your results.  This does not need to be a function.\n",
        "\n",
        "`https://drive.google.com/uc?export=download&id=1gx1SSC20mO5XL6uYD0mdcM_cL91fcIW5`\n"
      ]
    },
    {
      "cell_type": "code",
      "execution_count": 11,
      "metadata": {
        "colab": {
          "base_uri": "https://localhost:8080/"
        },
        "id": "5Zite21lXtk_",
        "outputId": "e0cb31af-1abf-4300-d1bd-db71d8da853d"
      },
      "outputs": [
        {
          "name": "stdout",
          "output_type": "stream",
          "text": [
            "Calculated data object is equivalent to an API generated data object.\n"
          ]
        }
      ],
      "source": [
        "\"\"\"\n",
        "\n",
        " To compare data from the API with the outcome of the process_people method, use the code below.\n",
        "\n",
        " If they are not equal, it says \"Calculated JSON Object is Not Equal to Actual JSON Object\" and if they are, it says \"API JSON object is equal to Calculated JSON object.\"\n",
        "\n",
        "\"\"\"\n",
        "\n",
        "response = requests.get(\"https://hds5210-data.s3.amazonaws.com/people_results.json\")\n",
        "resp = response.json()\n",
        "calculated = process_people(\"https://hds5210-data.s3.amazonaws.com/people.psv\")\n",
        "if  json.loads(json.dumps(resp)) == json.loads(json.dumps(calculated)):\n",
        "    print(\"Calculated data object is equivalent to an API generated data object.\")\n",
        "else:\n",
        "    print(\"Calulated data Object is Not Equivalent to Actual data Object\")"
      ]
    },
    {
      "cell_type": "markdown",
      "metadata": {
        "id": "8xPcFUN3Xtk_"
      },
      "source": [
        "---\n",
        "\n",
        "## Check your work above\n",
        "\n",
        "If you didn't get them all correct, take a few minutes to think through those that aren't correct.\n",
        "\n",
        "\n",
        "## Submitting Your Work\n",
        "\n",
        "Submit your work as usual into a folder named `midterm`"
      ]
    },
    {
      "cell_type": "markdown",
      "metadata": {
        "id": "YsX-SpkWXtk_"
      },
      "source": [
        "---"
      ]
    }
  ],
  "metadata": {
    "colab": {
      "include_colab_link": true,
      "provenance": []
    },
    "kernelspec": {
      "display_name": "Python 3",
      "language": "python",
      "name": "python3"
    },
    "language_info": {
      "codemirror_mode": {
        "name": "ipython",
        "version": 3
      },
      "file_extension": ".py",
      "mimetype": "text/x-python",
      "name": "python",
      "nbconvert_exporter": "python",
      "pygments_lexer": "ipython3",
      "version": "3.9.16"
    }
  },
  "nbformat": 4,
  "nbformat_minor": 0
}
